{
 "cells": [
  {
   "cell_type": "code",
   "execution_count": 1,
   "id": "d993cccd",
   "metadata": {},
   "outputs": [],
   "source": [
    "import pandas as pd\n",
    "import numpy as np\n",
    "import re;"
   ]
  },
  {
   "cell_type": "code",
   "execution_count": 7,
   "id": "45eac81f",
   "metadata": {
    "scrolled": true
   },
   "outputs": [],
   "source": [
    "# Task 1\n",
    "energy = pd.read_excel('En_In.xls', skiprows=17, skipfooter=38)\n",
    "energy = energy.drop(columns=['Unnamed: 0', 'Unnamed: 1'])\n",
    "energy.columns = ['Country', 'Energy Supply', 'Energy Supply per Capita', '% Renewable']"
   ]
  },
  {
   "cell_type": "code",
   "execution_count": 4,
   "id": "c0aa0740",
   "metadata": {},
   "outputs": [
    {
     "name": "stdout",
     "output_type": "stream",
     "text": [
      "Collecting xlrd\n",
      "  Downloading xlrd-2.0.1-py2.py3-none-any.whl (96 kB)\n",
      "     ---------------------------------------- 0.0/96.5 kB ? eta -:--:--\n",
      "     ---- ----------------------------------- 10.2/96.5 kB ? eta -:--:--\n",
      "     ------------ ------------------------- 30.7/96.5 kB 445.2 kB/s eta 0:00:01\n",
      "     ------------------------ ------------- 61.4/96.5 kB 469.7 kB/s eta 0:00:01\n",
      "     -------------------------------------- 96.5/96.5 kB 616.4 kB/s eta 0:00:00\n",
      "Installing collected packages: xlrd\n",
      "Successfully installed xlrd-2.0.1\n",
      "Note: you may need to restart the kernel to use updated packages.\n"
     ]
    }
   ],
   "source": [
    "pip install xlrd"
   ]
  },
  {
   "cell_type": "code",
   "execution_count": 8,
   "id": "2c17404c",
   "metadata": {},
   "outputs": [],
   "source": [
    "# Task 2\n",
    "energy['Energy Supply'] = energy['Energy Supply'] * 1000000\n",
    "energy['Energy Supply'].replace('...', np.nan, inplace=True)"
   ]
  },
  {
   "cell_type": "code",
   "execution_count": 9,
   "id": "32aabc4c",
   "metadata": {},
   "outputs": [],
   "source": [
    "# Task 3\n",
    "energy['Country'] = energy['Country'].apply(lambda x: re.sub(r'(\\d+|\\([^)]*\\))', '', x.strip()))\n",
    "energy['Country'] = energy['Country'].str.rstrip()"
   ]
  },
  {
   "cell_type": "code",
   "execution_count": 11,
   "id": "0b565eaa",
   "metadata": {},
   "outputs": [],
   "source": [
    "# Task 4\n",
    "country_rename = {\n",
    "    \"Republic of Korea\": \"South Korea\",\n",
    "    \"United States of America\": \"United States\",\n",
    "    \"United Kingdom of Great Britain and Northern Ireland\": \"United Kingdom\",\n",
    "    \"China, Hong Kong Special Administrative Region\": \"Hong Kong\"\n",
    "}\n",
    "energy['Country'].replace(country_rename, inplace=True)"
   ]
  },
  {
   "cell_type": "code",
   "execution_count": 51,
   "id": "d4b78101",
   "metadata": {},
   "outputs": [
    {
     "data": {
      "text/html": [
       "<div>\n",
       "<style scoped>\n",
       "    .dataframe tbody tr th:only-of-type {\n",
       "        vertical-align: middle;\n",
       "    }\n",
       "\n",
       "    .dataframe tbody tr th {\n",
       "        vertical-align: top;\n",
       "    }\n",
       "\n",
       "    .dataframe thead th {\n",
       "        text-align: right;\n",
       "    }\n",
       "</style>\n",
       "<table border=\"1\" class=\"dataframe\">\n",
       "  <thead>\n",
       "    <tr style=\"text-align: right;\">\n",
       "      <th></th>\n",
       "      <th>Country</th>\n",
       "      <th>Energy Supply</th>\n",
       "      <th>Energy Supply per Capita</th>\n",
       "      <th>% Renewable</th>\n",
       "    </tr>\n",
       "  </thead>\n",
       "  <tbody>\n",
       "    <tr>\n",
       "      <th>3</th>\n",
       "      <td>American Samoa</td>\n",
       "      <td>.................................................</td>\n",
       "      <td>...</td>\n",
       "      <td>0.641026</td>\n",
       "    </tr>\n",
       "    <tr>\n",
       "      <th>24</th>\n",
       "      <td>Bolivia</td>\n",
       "      <td>336000000</td>\n",
       "      <td>32</td>\n",
       "      <td>31.477120</td>\n",
       "    </tr>\n",
       "    <tr>\n",
       "      <th>164</th>\n",
       "      <td>South Korea</td>\n",
       "      <td>11007000000</td>\n",
       "      <td>221</td>\n",
       "      <td>2.279353</td>\n",
       "    </tr>\n",
       "  </tbody>\n",
       "</table>\n",
       "</div>"
      ],
      "text/plain": [
       "            Country                                      Energy Supply  \\\n",
       "3    American Samoa  .................................................   \n",
       "24          Bolivia                                          336000000   \n",
       "164     South Korea                                        11007000000   \n",
       "\n",
       "    Energy Supply per Capita  % Renewable  \n",
       "3                        ...     0.641026  \n",
       "24                        32    31.477120  \n",
       "164                      221     2.279353  "
      ]
     },
     "execution_count": 51,
     "metadata": {},
     "output_type": "execute_result"
    }
   ],
   "source": [
    "energy.loc[energy['Country'].isin(['American Samoa', 'South Korea', 'Bolivia'])]"
   ]
  },
  {
   "cell_type": "code",
   "execution_count": 13,
   "id": "e6d9cf9a",
   "metadata": {},
   "outputs": [],
   "source": [
    "# Task 5\n",
    "GDP = pd.read_csv('gpd.csv', skiprows=4)\n",
    "country_rename_GDP = {\n",
    "    \"Korea, Rep.\": \"South Korea\",\n",
    "    \"Iran, Islamic Rep.\": \"Iran\",\n",
    "    \"Hong Kong SAR, China\": \"Hong Kong\"\n",
    "}\n",
    "GDP['Country Name'].replace(country_rename_GDP, inplace=True)"
   ]
  },
  {
   "cell_type": "code",
   "execution_count": 50,
   "id": "40e5ebec",
   "metadata": {},
   "outputs": [
    {
     "data": {
      "text/html": [
       "<div>\n",
       "<style scoped>\n",
       "    .dataframe tbody tr th:only-of-type {\n",
       "        vertical-align: middle;\n",
       "    }\n",
       "\n",
       "    .dataframe tbody tr th {\n",
       "        vertical-align: top;\n",
       "    }\n",
       "\n",
       "    .dataframe thead th {\n",
       "        text-align: right;\n",
       "    }\n",
       "</style>\n",
       "<table border=\"1\" class=\"dataframe\">\n",
       "  <thead>\n",
       "    <tr style=\"text-align: right;\">\n",
       "      <th></th>\n",
       "      <th>Country Name</th>\n",
       "      <th>Country Code</th>\n",
       "      <th>Indicator Name</th>\n",
       "      <th>Indicator Code</th>\n",
       "      <th>1960</th>\n",
       "      <th>1961</th>\n",
       "      <th>1962</th>\n",
       "      <th>1963</th>\n",
       "      <th>1964</th>\n",
       "      <th>1965</th>\n",
       "      <th>...</th>\n",
       "      <th>2006</th>\n",
       "      <th>2007</th>\n",
       "      <th>2008</th>\n",
       "      <th>2009</th>\n",
       "      <th>2010</th>\n",
       "      <th>2011</th>\n",
       "      <th>2012</th>\n",
       "      <th>2013</th>\n",
       "      <th>2014</th>\n",
       "      <th>2015</th>\n",
       "    </tr>\n",
       "  </thead>\n",
       "  <tbody>\n",
       "    <tr>\n",
       "      <th>0</th>\n",
       "      <td>Aruba</td>\n",
       "      <td>ABW</td>\n",
       "      <td>GDP at market prices (constant 2010 US$)</td>\n",
       "      <td>NY.GDP.MKTP.KD</td>\n",
       "      <td>NaN</td>\n",
       "      <td>NaN</td>\n",
       "      <td>NaN</td>\n",
       "      <td>NaN</td>\n",
       "      <td>NaN</td>\n",
       "      <td>NaN</td>\n",
       "      <td>...</td>\n",
       "      <td>NaN</td>\n",
       "      <td>NaN</td>\n",
       "      <td>NaN</td>\n",
       "      <td>NaN</td>\n",
       "      <td>2.467704e+09</td>\n",
       "      <td>NaN</td>\n",
       "      <td>NaN</td>\n",
       "      <td>NaN</td>\n",
       "      <td>NaN</td>\n",
       "      <td>NaN</td>\n",
       "    </tr>\n",
       "  </tbody>\n",
       "</table>\n",
       "<p>1 rows × 60 columns</p>\n",
       "</div>"
      ],
      "text/plain": [
       "  Country Name Country Code                            Indicator Name  \\\n",
       "0        Aruba          ABW  GDP at market prices (constant 2010 US$)   \n",
       "\n",
       "   Indicator Code  1960  1961  1962  1963  1964  1965  ...  2006  2007  2008  \\\n",
       "0  NY.GDP.MKTP.KD   NaN   NaN   NaN   NaN   NaN   NaN  ...   NaN   NaN   NaN   \n",
       "\n",
       "   2009          2010  2011  2012  2013  2014  2015  \n",
       "0   NaN  2.467704e+09   NaN   NaN   NaN   NaN   NaN  \n",
       "\n",
       "[1 rows x 60 columns]"
      ]
     },
     "execution_count": 50,
     "metadata": {},
     "output_type": "execute_result"
    }
   ],
   "source": [
    "GDP.head(1)"
   ]
  },
  {
   "cell_type": "code",
   "execution_count": 15,
   "id": "bff383de",
   "metadata": {},
   "outputs": [],
   "source": [
    "# Task 6\n",
    "ScimEn = pd.read_excel('scimagojr.xlsx')\n",
    "ScimEn = ScimEn[:15]"
   ]
  },
  {
   "cell_type": "code",
   "execution_count": 16,
   "id": "25446667",
   "metadata": {},
   "outputs": [],
   "source": [
    "# Task 7\n",
    "df = pd.merge(ScimEn, energy, how='inner', left_on='Country', right_on='Country')\n",
    "df = pd.merge(df, GDP, how='inner', left_on='Country', right_on='Country Name')\n",
    "df = df[['Country', 'Rank', 'Documents', 'Citable documents', 'Citations', 'Self-citations', \n",
    "         'Citations per document', 'H index', 'Energy Supply', 'Energy Supply per Capita', \n",
    "         '% Renewable', '2006', '2007', '2008', '2009', '2010', '2011', '2012', '2013', '2014', '2015']]\n",
    "df = df.set_index('Country')"
   ]
  },
  {
   "cell_type": "code",
   "execution_count": 49,
   "id": "0bda3a6a",
   "metadata": {},
   "outputs": [
    {
     "data": {
      "text/html": [
       "<div>\n",
       "<style scoped>\n",
       "    .dataframe tbody tr th:only-of-type {\n",
       "        vertical-align: middle;\n",
       "    }\n",
       "\n",
       "    .dataframe tbody tr th {\n",
       "        vertical-align: top;\n",
       "    }\n",
       "\n",
       "    .dataframe thead th {\n",
       "        text-align: right;\n",
       "    }\n",
       "</style>\n",
       "<table border=\"1\" class=\"dataframe\">\n",
       "  <thead>\n",
       "    <tr style=\"text-align: right;\">\n",
       "      <th></th>\n",
       "      <th>Rank</th>\n",
       "      <th>Documents</th>\n",
       "      <th>Citable documents</th>\n",
       "      <th>Citations</th>\n",
       "      <th>Self-citations</th>\n",
       "      <th>Citations per document</th>\n",
       "      <th>H index</th>\n",
       "      <th>Energy Supply</th>\n",
       "      <th>Energy Supply per Capita</th>\n",
       "      <th>% Renewable</th>\n",
       "      <th>...</th>\n",
       "      <th>2010</th>\n",
       "      <th>2011</th>\n",
       "      <th>2012</th>\n",
       "      <th>2013</th>\n",
       "      <th>2014</th>\n",
       "      <th>2015</th>\n",
       "      <th>Population</th>\n",
       "      <th>Citable documents per person</th>\n",
       "      <th>Above Median Renewables</th>\n",
       "      <th>Continent</th>\n",
       "    </tr>\n",
       "    <tr>\n",
       "      <th>Country</th>\n",
       "      <th></th>\n",
       "      <th></th>\n",
       "      <th></th>\n",
       "      <th></th>\n",
       "      <th></th>\n",
       "      <th></th>\n",
       "      <th></th>\n",
       "      <th></th>\n",
       "      <th></th>\n",
       "      <th></th>\n",
       "      <th></th>\n",
       "      <th></th>\n",
       "      <th></th>\n",
       "      <th></th>\n",
       "      <th></th>\n",
       "      <th></th>\n",
       "      <th></th>\n",
       "      <th></th>\n",
       "      <th></th>\n",
       "      <th></th>\n",
       "      <th></th>\n",
       "    </tr>\n",
       "  </thead>\n",
       "  <tbody>\n",
       "    <tr>\n",
       "      <th>China</th>\n",
       "      <td>1</td>\n",
       "      <td>127050</td>\n",
       "      <td>126767</td>\n",
       "      <td>597237</td>\n",
       "      <td>411683</td>\n",
       "      <td>4.70</td>\n",
       "      <td>138</td>\n",
       "      <td>127191000000</td>\n",
       "      <td>93</td>\n",
       "      <td>19.75491</td>\n",
       "      <td>...</td>\n",
       "      <td>6.039659e+12</td>\n",
       "      <td>6.612490e+12</td>\n",
       "      <td>7.124978e+12</td>\n",
       "      <td>7.672448e+12</td>\n",
       "      <td>8.230121e+12</td>\n",
       "      <td>8.797999e+12</td>\n",
       "      <td>1367645161.290323</td>\n",
       "      <td>0.000093</td>\n",
       "      <td>1</td>\n",
       "      <td>Asia</td>\n",
       "    </tr>\n",
       "    <tr>\n",
       "      <th>United States</th>\n",
       "      <td>2</td>\n",
       "      <td>96661</td>\n",
       "      <td>94747</td>\n",
       "      <td>792274</td>\n",
       "      <td>265436</td>\n",
       "      <td>8.20</td>\n",
       "      <td>230</td>\n",
       "      <td>90838000000</td>\n",
       "      <td>286</td>\n",
       "      <td>11.57098</td>\n",
       "      <td>...</td>\n",
       "      <td>1.496437e+13</td>\n",
       "      <td>1.520402e+13</td>\n",
       "      <td>1.554216e+13</td>\n",
       "      <td>1.577367e+13</td>\n",
       "      <td>1.615662e+13</td>\n",
       "      <td>1.654857e+13</td>\n",
       "      <td>317615384.615385</td>\n",
       "      <td>0.000298</td>\n",
       "      <td>0</td>\n",
       "      <td>North America</td>\n",
       "    </tr>\n",
       "    <tr>\n",
       "      <th>Japan</th>\n",
       "      <td>3</td>\n",
       "      <td>30504</td>\n",
       "      <td>30287</td>\n",
       "      <td>223024</td>\n",
       "      <td>61554</td>\n",
       "      <td>7.31</td>\n",
       "      <td>134</td>\n",
       "      <td>18984000000</td>\n",
       "      <td>149</td>\n",
       "      <td>10.23282</td>\n",
       "      <td>...</td>\n",
       "      <td>5.498718e+12</td>\n",
       "      <td>5.473738e+12</td>\n",
       "      <td>5.569102e+12</td>\n",
       "      <td>5.644659e+12</td>\n",
       "      <td>5.642884e+12</td>\n",
       "      <td>5.669563e+12</td>\n",
       "      <td>127409395.973154</td>\n",
       "      <td>0.000238</td>\n",
       "      <td>0</td>\n",
       "      <td>Asia</td>\n",
       "    </tr>\n",
       "  </tbody>\n",
       "</table>\n",
       "<p>3 rows × 24 columns</p>\n",
       "</div>"
      ],
      "text/plain": [
       "               Rank  Documents  Citable documents  Citations  Self-citations  \\\n",
       "Country                                                                        \n",
       "China             1     127050             126767     597237          411683   \n",
       "United States     2      96661              94747     792274          265436   \n",
       "Japan             3      30504              30287     223024           61554   \n",
       "\n",
       "               Citations per document  H index Energy Supply  \\\n",
       "Country                                                        \n",
       "China                            4.70      138  127191000000   \n",
       "United States                    8.20      230   90838000000   \n",
       "Japan                            7.31      134   18984000000   \n",
       "\n",
       "              Energy Supply per Capita  % Renewable  ...          2010  \\\n",
       "Country                                              ...                 \n",
       "China                               93     19.75491  ...  6.039659e+12   \n",
       "United States                      286     11.57098  ...  1.496437e+13   \n",
       "Japan                              149     10.23282  ...  5.498718e+12   \n",
       "\n",
       "                       2011          2012          2013          2014  \\\n",
       "Country                                                                 \n",
       "China          6.612490e+12  7.124978e+12  7.672448e+12  8.230121e+12   \n",
       "United States  1.520402e+13  1.554216e+13  1.577367e+13  1.615662e+13   \n",
       "Japan          5.473738e+12  5.569102e+12  5.644659e+12  5.642884e+12   \n",
       "\n",
       "                       2015         Population  Citable documents per person  \\\n",
       "Country                                                                        \n",
       "China          8.797999e+12  1367645161.290323                      0.000093   \n",
       "United States  1.654857e+13   317615384.615385                      0.000298   \n",
       "Japan          5.669563e+12   127409395.973154                      0.000238   \n",
       "\n",
       "               Above Median Renewables      Continent  \n",
       "Country                                                \n",
       "China                                1           Asia  \n",
       "United States                        0  North America  \n",
       "Japan                                0           Asia  \n",
       "\n",
       "[3 rows x 24 columns]"
      ]
     },
     "execution_count": 49,
     "metadata": {},
     "output_type": "execute_result"
    }
   ],
   "source": [
    "df.head(3)"
   ]
  },
  {
   "cell_type": "code",
   "execution_count": 48,
   "id": "2ee1cfcd",
   "metadata": {},
   "outputs": [
    {
     "data": {
      "text/plain": [
       "(15, 24)"
      ]
     },
     "execution_count": 48,
     "metadata": {},
     "output_type": "execute_result"
    }
   ],
   "source": [
    "df.shape"
   ]
  },
  {
   "cell_type": "code",
   "execution_count": 19,
   "id": "27e0f4e3",
   "metadata": {},
   "outputs": [],
   "source": [
    "# Task 8\n",
    "def task_eight():\n",
    "    return df.loc[:, '2006':'2015'].mean(axis=1).sort_values(ascending=False)[:15]"
   ]
  },
  {
   "cell_type": "code",
   "execution_count": 45,
   "id": "df9fef6f",
   "metadata": {},
   "outputs": [
    {
     "data": {
      "text/plain": [
       "Country\n",
       "United States         1.536434e+13\n",
       "China                 6.348609e+12\n",
       "Japan                 5.542208e+12\n",
       "Germany               3.493025e+12\n",
       "France                2.681725e+12\n",
       "United Kingdom        2.487907e+12\n",
       "Brazil                2.189794e+12\n",
       "Italy                 2.120175e+12\n",
       "India                 1.769297e+12\n",
       "Canada                1.660647e+12\n",
       "Russian Federation    1.565459e+12\n",
       "Spain                 1.418078e+12\n",
       "Australia             1.164043e+12\n",
       "South Korea           1.106715e+12\n",
       "Iran                  4.441558e+11\n",
       "dtype: float64"
      ]
     },
     "execution_count": 45,
     "metadata": {},
     "output_type": "execute_result"
    }
   ],
   "source": [
    "task_eight()"
   ]
  },
  {
   "cell_type": "code",
   "execution_count": 21,
   "id": "c69a54ea",
   "metadata": {},
   "outputs": [],
   "source": [
    "# Task 9\n",
    "def task_nine():\n",
    "    top_15_avg = task_eight()\n",
    "    fifth_largest = top_15_avg.index[4]\n",
    "    gdp_change = df.loc[fifth_largest, '2015'] - df.loc[fifth_largest, '2006']\n",
    "    return fifth_largest, gdp_change"
   ]
  },
  {
   "cell_type": "code",
   "execution_count": 44,
   "id": "4d300d6c",
   "metadata": {},
   "outputs": [
    {
     "data": {
      "text/plain": [
       "('France', 153345695364.24023)"
      ]
     },
     "execution_count": 44,
     "metadata": {},
     "output_type": "execute_result"
    }
   ],
   "source": [
    "task_nine()"
   ]
  },
  {
   "cell_type": "code",
   "execution_count": 23,
   "id": "e9b5e475",
   "metadata": {},
   "outputs": [],
   "source": [
    "# Task 10\n",
    "def task_ten():\n",
    "    max_renewable_country = df['% Renewable'].idxmax()\n",
    "    max_renewable_percentage = df.loc[max_renewable_country, '% Renewable']\n",
    "    return max_renewable_country, max_renewable_percentage"
   ]
  },
  {
   "cell_type": "code",
   "execution_count": 43,
   "id": "78f1d6e5",
   "metadata": {},
   "outputs": [
    {
     "data": {
      "text/plain": [
       "('Brazil', 69.64803)"
      ]
     },
     "execution_count": 43,
     "metadata": {},
     "output_type": "execute_result"
    }
   ],
   "source": [
    "task_ten()"
   ]
  },
  {
   "cell_type": "code",
   "execution_count": 31,
   "id": "633f7c41",
   "metadata": {},
   "outputs": [],
   "source": [
    "# Task 11\n",
    "def task_eleven():\n",
    "    df['Population'] = df['Energy Supply'] / df['Energy Supply per Capita']\n",
    "    sixth_populous = df['Population'].sort_values(ascending=False).index[5]\n",
    "    return sixth_populous, df.loc[sixth_populous, 'Population']"
   ]
  },
  {
   "cell_type": "code",
   "execution_count": 42,
   "id": "8a31896f",
   "metadata": {},
   "outputs": [
    {
     "data": {
      "text/plain": [
       "('Japan', 127409395.97315437)"
      ]
     },
     "execution_count": 42,
     "metadata": {},
     "output_type": "execute_result"
    }
   ],
   "source": [
    "task_eleven()"
   ]
  },
  {
   "cell_type": "code",
   "execution_count": 32,
   "id": "2b39ace2",
   "metadata": {},
   "outputs": [],
   "source": [
    "# Task 12\n",
    "correlation = df[['Citable documents per person', 'Energy Supply per Capita']].corr().iloc[0, 1]"
   ]
  },
  {
   "cell_type": "code",
   "execution_count": 41,
   "id": "181f912a",
   "metadata": {},
   "outputs": [
    {
     "data": {
      "text/plain": [
       "0.7940010435442945"
      ]
     },
     "execution_count": 41,
     "metadata": {},
     "output_type": "execute_result"
    }
   ],
   "source": [
    "correlation"
   ]
  },
  {
   "cell_type": "code",
   "execution_count": 35,
   "id": "aac1424c",
   "metadata": {},
   "outputs": [],
   "source": [
    "# Task 13\n",
    "def task_thirteen():\n",
    "    median = df['% Renewable'].median()\n",
    "    df['Above Median Renewables'] = (df['% Renewable'] >= median).astype(int)\n",
    "    return df['Above Median Renewables'].sort_index()"
   ]
  },
  {
   "cell_type": "code",
   "execution_count": 40,
   "id": "d6f7c957",
   "metadata": {},
   "outputs": [
    {
     "data": {
      "text/plain": [
       "Country\n",
       "Australia             0\n",
       "Brazil                1\n",
       "Canada                1\n",
       "China                 1\n",
       "France                1\n",
       "Germany               1\n",
       "India                 0\n",
       "Iran                  0\n",
       "Italy                 1\n",
       "Japan                 0\n",
       "Russian Federation    1\n",
       "South Korea           0\n",
       "Spain                 1\n",
       "United Kingdom        0\n",
       "United States         0\n",
       "Name: Above Median Renewables, dtype: int32"
      ]
     },
     "execution_count": 40,
     "metadata": {},
     "output_type": "execute_result"
    }
   ],
   "source": [
    "task_thirteen()"
   ]
  },
  {
   "cell_type": "code",
   "execution_count": 37,
   "id": "6caee4d9",
   "metadata": {},
   "outputs": [],
   "source": [
    "# Task 14\n",
    "ContinentDict = {'China':'Asia', \n",
    " 'United States':'North America', \n",
    " 'Japan':'Asia', \n",
    " 'United Kingdom':'Europe', \n",
    " 'Russian Federation':'Europe', \n",
    " 'Canada':'North America', \n",
    " 'Germany':'Europe', \n",
    " 'India':'Asia', \n",
    " 'France':'Europe', \n",
    " 'South Korea':'Asia', \n",
    " 'Italy':'Europe', \n",
    " 'Spain':'Europe', \n",
    " 'Iran':'Asia', \n",
    " 'Australia':'Australia', \n",
    " 'Brazil':'South America'}\n",
    "\n",
    "def task_fourteen():\n",
    "    df['Continent'] = df.index.map(ContinentDict)\n",
    "    df['Population'] = df['Energy Supply'] / df['Energy Supply per Capita']\n",
    "    result = df.groupby('Continent')['Population'].agg(['size', 'sum', 'mean', 'std'])\n",
    "    return result"
   ]
  },
  {
   "cell_type": "code",
   "execution_count": 39,
   "id": "ee36b67d",
   "metadata": {},
   "outputs": [
    {
     "data": {
      "text/html": [
       "<div>\n",
       "<style scoped>\n",
       "    .dataframe tbody tr th:only-of-type {\n",
       "        vertical-align: middle;\n",
       "    }\n",
       "\n",
       "    .dataframe tbody tr th {\n",
       "        vertical-align: top;\n",
       "    }\n",
       "\n",
       "    .dataframe thead th {\n",
       "        text-align: right;\n",
       "    }\n",
       "</style>\n",
       "<table border=\"1\" class=\"dataframe\">\n",
       "  <thead>\n",
       "    <tr style=\"text-align: right;\">\n",
       "      <th></th>\n",
       "      <th>size</th>\n",
       "      <th>sum</th>\n",
       "      <th>mean</th>\n",
       "      <th>std</th>\n",
       "    </tr>\n",
       "    <tr>\n",
       "      <th>Continent</th>\n",
       "      <th></th>\n",
       "      <th></th>\n",
       "      <th></th>\n",
       "      <th></th>\n",
       "    </tr>\n",
       "  </thead>\n",
       "  <tbody>\n",
       "    <tr>\n",
       "      <th>Asia</th>\n",
       "      <td>5</td>\n",
       "      <td>2898666386.6106</td>\n",
       "      <td>579733277.32212</td>\n",
       "      <td>6.790979e+08</td>\n",
       "    </tr>\n",
       "    <tr>\n",
       "      <th>Australia</th>\n",
       "      <td>1</td>\n",
       "      <td>23316017.316017</td>\n",
       "      <td>23316017.316017</td>\n",
       "      <td>NaN</td>\n",
       "    </tr>\n",
       "    <tr>\n",
       "      <th>Europe</th>\n",
       "      <td>6</td>\n",
       "      <td>457929667.216372</td>\n",
       "      <td>76321611.202729</td>\n",
       "      <td>3.464767e+07</td>\n",
       "    </tr>\n",
       "    <tr>\n",
       "      <th>North America</th>\n",
       "      <td>2</td>\n",
       "      <td>352855249.48025</td>\n",
       "      <td>176427624.740125</td>\n",
       "      <td>1.996696e+08</td>\n",
       "    </tr>\n",
       "    <tr>\n",
       "      <th>South America</th>\n",
       "      <td>1</td>\n",
       "      <td>205915254.237288</td>\n",
       "      <td>205915254.237288</td>\n",
       "      <td>NaN</td>\n",
       "    </tr>\n",
       "  </tbody>\n",
       "</table>\n",
       "</div>"
      ],
      "text/plain": [
       "               size               sum              mean           std\n",
       "Continent                                                            \n",
       "Asia              5   2898666386.6106   579733277.32212  6.790979e+08\n",
       "Australia         1   23316017.316017   23316017.316017           NaN\n",
       "Europe            6  457929667.216372   76321611.202729  3.464767e+07\n",
       "North America     2   352855249.48025  176427624.740125  1.996696e+08\n",
       "South America     1  205915254.237288  205915254.237288           NaN"
      ]
     },
     "execution_count": 39,
     "metadata": {},
     "output_type": "execute_result"
    }
   ],
   "source": [
    "task_fourteen()"
   ]
  },
  {
   "cell_type": "code",
   "execution_count": 54,
   "id": "610ad8b4",
   "metadata": {},
   "outputs": [
    {
     "data": {
      "image/png": "[encoded data removed]",
      "text/plain": [
       "<Figure size 1600x1000 with 1 Axes>"
      ]
     },
     "metadata": {},
     "output_type": "display_data"
    }
   ],
   "source": [
    "# Task 15\n",
    "import matplotlib.pyplot as plt\n",
    "\n",
    "colors = {'Asia':'red', 'North America':'blue', 'Europe':'green', 'Australia':'yellow', 'South America':'orange'}\n",
    "\n",
    "ax = df.plot.scatter(x='Rank', y='% Renewable', s=df['2015']/9**10, c=df['Continent'].apply(lambda x: colors[x]), alpha=0.5, figsize=(16, 10))\n",
    "\n",
    "ax.set_xticks(range(16))\n",
    "ax.set_yticks(range(0, 71, 10))\n",
    "\n",
    "for i, txt in enumerate(df.index):\n",
    "    ax.annotate(txt, (df['Rank'][i], df['% Renewable'][i]), fontsize=10, ha='center', va='center')\n",
    "\n",
    "plt.title('Bubble Chart')\n",
    "plt.xlabel('Rank')\n",
    "plt.ylabel('% Renewable')\n",
    "\n",
    "plt.show()"
   ]
  },
  {
   "cell_type": "code",
   "execution_count": null,
   "id": "968fbd1f",
   "metadata": {},
   "outputs": [],
   "source": []
  }
 ],
 "metadata": {
  "kernelspec": {
   "display_name": "Python 3 (ipykernel)",
   "language": "python",
   "name": "python3"
  },
  "language_info": {
   "codemirror_mode": {
    "name": "ipython",
    "version": 3
   },
   "file_extension": ".py",
   "mimetype": "text/x-python",
   "name": "python",
   "nbconvert_exporter": "python",
   "pygments_lexer": "ipython3",
   "version": "3.11.5"
  }
 },
 "nbformat": 4,
 "nbformat_minor": 5
}
